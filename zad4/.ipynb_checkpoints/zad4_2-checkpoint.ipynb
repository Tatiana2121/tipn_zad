{
 "cells": [
  {
   "cell_type": "code",
   "execution_count": 3,
   "metadata": {},
   "outputs": [],
   "source": [
    "przedmioty = [\"informatyka\", \"metodologia\", \"filozofia\", \"angielski\", \"psychologia\"]"
   ]
  },
  {
   "cell_type": "code",
   "execution_count": 5,
   "metadata": {},
   "outputs": [
    {
     "name": "stdin",
     "output_type": "stream",
     "text": [
      "Podaj ocenę z informatyki: 4.0\n",
      "Podaj ocenę z metodologii: 4.0\n",
      "Podaj ocenę z filozofii: 4.0\n",
      "Podaj ocenę z angielskiego: 4.0\n",
      "Podaj ocenę z psychologii: 4.0\n"
     ]
    }
   ],
   "source": [
    "lista = []\n",
    "ocena = input(\"Podaj ocenę z informatyki:\")\n",
    "ocena = float(ocena)\n",
    "lista.append(ocena)\n",
    "ocena = input(\"Podaj ocenę z metodologii:\")\n",
    "ocena = float(ocena)\n",
    "lista.append(ocena)\n",
    "ocena = input(\"Podaj ocenę z filozofii:\")\n",
    "ocena = float(ocena)\n",
    "lista.append(ocena)\n",
    "ocena = input(\"Podaj ocenę z angielskiego:\")\n",
    "ocena = float(ocena)\n",
    "lista.append(ocena)\n",
    "ocena = input(\"Podaj ocenę z psychologii:\")\n",
    "ocena = float(ocena)\n",
    "lista.append(ocena)\n"
   ]
  },
  {
   "cell_type": "code",
   "execution_count": 6,
   "metadata": {},
   "outputs": [
    {
     "data": {
      "text/plain": [
       "[4.0, 4.0, 4.0, 4.0, 4.0]"
      ]
     },
     "execution_count": 6,
     "metadata": {},
     "output_type": "execute_result"
    }
   ],
   "source": [
    "lista"
   ]
  },
  {
   "cell_type": "code",
   "execution_count": 7,
   "metadata": {},
   "outputs": [
    {
     "data": {
      "text/plain": [
       "5"
      ]
     },
     "execution_count": 7,
     "metadata": {},
     "output_type": "execute_result"
    }
   ],
   "source": [
    "len(lista)"
   ]
  },
  {
   "cell_type": "code",
   "execution_count": 8,
   "metadata": {},
   "outputs": [
    {
     "data": {
      "text/plain": [
       "20.0"
      ]
     },
     "execution_count": 8,
     "metadata": {},
     "output_type": "execute_result"
    }
   ],
   "source": [
    "sum(lista)"
   ]
  },
  {
   "cell_type": "code",
   "execution_count": 9,
   "metadata": {},
   "outputs": [
    {
     "name": "stdout",
     "output_type": "stream",
     "text": [
      "Moja srednia w pierwszym semestrze to 4.0\n"
     ]
    }
   ],
   "source": [
    "srednia = sum(lista) / len(lista)\n",
    "print(\"Moja srednia w pierwszym semestrze to\", str(srednia))"
   ]
  },
  {
   "cell_type": "code",
   "execution_count": null,
   "metadata": {},
   "outputs": [],
   "source": []
  },
  {
   "cell_type": "code",
   "execution_count": null,
   "metadata": {},
   "outputs": [],
   "source": []
  }
 ],
 "metadata": {
  "kernelspec": {
   "display_name": "Python 3",
   "language": "python",
   "name": "python3"
  },
  "language_info": {
   "codemirror_mode": {
    "name": "ipython",
    "version": 3
   },
   "file_extension": ".py",
   "mimetype": "text/x-python",
   "name": "python",
   "nbconvert_exporter": "python",
   "pygments_lexer": "ipython3",
   "version": "3.7.0"
  }
 },
 "nbformat": 4,
 "nbformat_minor": 2
}
