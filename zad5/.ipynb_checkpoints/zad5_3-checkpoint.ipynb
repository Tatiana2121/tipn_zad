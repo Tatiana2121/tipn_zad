{
 "cells": [
  {
   "cell_type": "code",
   "execution_count": 9,
   "metadata": {},
   "outputs": [
    {
     "name": "stdin",
     "output_type": "stream",
     "text": [
      "podaj zadanie:  Uwielbiam frytki z maka. \n"
     ]
    },
    {
     "name": "stdout",
     "output_type": "stream",
     "text": [
      "Liczba słów: 4\n"
     ]
    }
   ],
   "source": [
    "zdanie = input(\"podaj zadanie: \")\n",
    "liczba_slow = 0 \n",
    "\n",
    "for i in zdanie:\n",
    "    if i == \" \":\n",
    "        liczba_slow += 1\n",
    "print('Liczba słów:', liczba_slow)"
   ]
  }
 ],
 "metadata": {
  "kernelspec": {
   "display_name": "Python 3",
   "language": "python",
   "name": "python3"
  },
  "language_info": {
   "codemirror_mode": {
    "name": "ipython",
    "version": 3
   },
   "file_extension": ".py",
   "mimetype": "text/x-python",
   "name": "python",
   "nbconvert_exporter": "python",
   "pygments_lexer": "ipython3",
   "version": "3.7.0"
  }
 },
 "nbformat": 4,
 "nbformat_minor": 2
}
