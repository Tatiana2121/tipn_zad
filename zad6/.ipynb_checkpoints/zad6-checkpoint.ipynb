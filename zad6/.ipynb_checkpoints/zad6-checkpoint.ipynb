{
 "cells": [
  {
   "cell_type": "code",
   "execution_count": 1,
   "metadata": {},
   "outputs": [],
   "source": [
    "a = \"Czy zgadzasz się ze stwierdzeniem, że koty są super?\"\n",
    "b = \"Czy zgadzasz się ze stwierdzeniem, że psy są super?\"\n",
    "c = \"Czy zgadzasz się ze stwierdzeniem, że pies to najlepszy przyjaciel człowieka?\"\n",
    "d = \"Czy zgadzasz się ze stwierdzeniem, że warto adoptować zwierzęta ze schroniska?\"\n",
    "e = \"Czy zgadzasz się ze stwierdzeniem, że kochasz pizzę?\"\n",
    "punkty = []"
   ]
  },
  {
   "cell_type": "code",
   "execution_count": 5,
   "metadata": {},
   "outputs": [],
   "source": [
    "def test(os):\n",
    "    lista_pytan = [a, b, c, d, e]\n",
    "    \n",
    "def pytanie (a):\n",
    "    print (a)\n",
    "    ax = input (\"1 oznacza zupełnie się nie zgadzam, a 5 oznacza zupełnie się zgadzam:\")\n",
    "    ax = int (ax)\n",
    "    if ax>5 or ax<1:\n",
    "        print (\"Brak takiej skali, wybierz inną cyfrę!\")\n",
    "        \n",
    "    else:\n",
    "        return ax"
   ]
  },
  {
   "cell_type": "code",
   "execution_count": 6,
   "metadata": {},
   "outputs": [
    {
     "name": "stdout",
     "output_type": "stream",
     "text": [
      "Czy zgadzasz się ze stwierdzeniem, że koty są super?\n"
     ]
    },
    {
     "name": "stdin",
     "output_type": "stream",
     "text": [
      "1 oznacza zupełnie się nie zgadzam, a 5 oznacza zupełnie się zgadzam: 5\n"
     ]
    },
    {
     "name": "stdout",
     "output_type": "stream",
     "text": [
      "Czy zgadzasz się ze stwierdzeniem, że psy są super?\n"
     ]
    },
    {
     "name": "stdin",
     "output_type": "stream",
     "text": [
      "1 oznacza zupełnie się nie zgadzam, a 5 oznacza zupełnie się zgadzam: 3\n"
     ]
    },
    {
     "name": "stdout",
     "output_type": "stream",
     "text": [
      "Czy zgadzasz się ze stwierdzeniem, że pies to najlepszy przyjaciel człowieka?\n"
     ]
    },
    {
     "name": "stdin",
     "output_type": "stream",
     "text": [
      "1 oznacza zupełnie się nie zgadzam, a 5 oznacza zupełnie się zgadzam: 4\n"
     ]
    },
    {
     "name": "stdout",
     "output_type": "stream",
     "text": [
      "Czy zgadzasz się ze stwierdzeniem, że warto adoptować zwierzęta ze schroniska?\n"
     ]
    },
    {
     "name": "stdin",
     "output_type": "stream",
     "text": [
      "1 oznacza zupełnie się nie zgadzam, a 5 oznacza zupełnie się zgadzam: 5\n"
     ]
    },
    {
     "name": "stdout",
     "output_type": "stream",
     "text": [
      "Czy zgadzasz się ze stwierdzeniem, że kochasz pizzę?\n"
     ]
    },
    {
     "name": "stdin",
     "output_type": "stream",
     "text": [
      "1 oznacza zupełnie się nie zgadzam, a 5 oznacza zupełnie się zgadzam: 1\n"
     ]
    },
    {
     "name": "stdout",
     "output_type": "stream",
     "text": [
      "Twój wynik to 18 . Super, tak dalej!\n"
     ]
    }
   ],
   "source": [
    "pkt = pytanie (a)\n",
    "punkty.append (pkt)\n",
    "pkt = pytanie (b)\n",
    "punkty.append (pkt)\n",
    "pkt = pytanie (c)\n",
    "punkty.append (pkt)\n",
    "pkt = pytanie (d)\n",
    "punkty.append (pkt)\n",
    "pkt = pytanie (e)\n",
    "punkty.append (pkt)\n",
    "wynik = sum (punkty)\n",
    "wynik = int (wynik)\n",
    "if wynik > 5 and wynik < 10:\n",
    "    print(\"Twój wynik to\", wynik, \".\", \"Polecam wycieczkę do Zoo.\")\n",
    "elif wynik == 5:\n",
    "    print(\"Twój wynik to\", wynik, \".\", \"Zacznij od chomika.\")\n",
    "elif wynik >= 10 and wynik < 15:\n",
    "    print(\"Twój wynik to\", wynik, \".\", \"Jest nieźle!\")\n",
    "elif wynik >= 15 and wynik < 20:\n",
    "    print(\"Twój wynik to\", wynik, \".\", \"Super, tak dalej!\")\n",
    "elif wynik >=20 and wynik < 25:\n",
    "    print(\"Twój wynik to\", wynik, \".\", \"Mogłabym wyprowadzać z Tobą swojego psa!\")\n",
    "elif wynik == 25:\n",
    "    print(\"Twój wynik to\", wynik, \".\", \"Świetnie, mogłabym być Twoim przyjacielem!\")\n",
    "    \n",
    "if wynik > 0:\n",
    "    punkty.pop(0)\n",
    "    punkty.pop(0)\n",
    "    punkty.pop(0)\n",
    "    punkty.pop(0)\n",
    "    punkty.pop(0)\n",
    "else:\n",
    "    print(\"Gratki!\")"
   ]
  }
 ],
 "metadata": {
  "kernelspec": {
   "display_name": "Python 3",
   "language": "python",
   "name": "python3"
  },
  "language_info": {
   "codemirror_mode": {
    "name": "ipython",
    "version": 3
   },
   "file_extension": ".py",
   "mimetype": "text/x-python",
   "name": "python",
   "nbconvert_exporter": "python",
   "pygments_lexer": "ipython3",
   "version": "3.7.0"
  }
 },
 "nbformat": 4,
 "nbformat_minor": 2
}
